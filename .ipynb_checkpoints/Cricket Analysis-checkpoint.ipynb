{
 "cells": [
  {
   "cell_type": "code",
   "execution_count": 2,
   "id": "3165d5d6",
   "metadata": {},
   "outputs": [],
   "source": [
    "import pandas as pd\n",
    "import numpy as np\n",
    "import math\n",
    "import matplotlib.pyplot as plt\n",
    "\n",
    "import warnings\n",
    "warnings.filterwarnings('ignore')\n",
    "\n",
    "\n",
    "pd.set_option('display.max_columns', None)  \n",
    "pd.set_option('display.expand_frame_repr', False)\n",
    "pd.set_option('max_colwidth', -1)"
   ]
  },
  {
   "cell_type": "code",
   "execution_count": 3,
   "id": "8631e1fe",
   "metadata": {},
   "outputs": [],
   "source": [
    "deliveries = pd.read_csv('deliveries_updated.csv')\n",
    "matches = pd.read_csv('matches_updated.csv')"
   ]
  },
  {
   "cell_type": "code",
   "execution_count": 4,
   "id": "62b78951",
   "metadata": {},
   "outputs": [
    {
     "data": {
      "text/html": [
       "<div>\n",
       "<style scoped>\n",
       "    .dataframe tbody tr th:only-of-type {\n",
       "        vertical-align: middle;\n",
       "    }\n",
       "\n",
       "    .dataframe tbody tr th {\n",
       "        vertical-align: top;\n",
       "    }\n",
       "\n",
       "    .dataframe thead th {\n",
       "        text-align: right;\n",
       "    }\n",
       "</style>\n",
       "<table border=\"1\" class=\"dataframe\">\n",
       "  <thead>\n",
       "    <tr style=\"text-align: right;\">\n",
       "      <th></th>\n",
       "      <th>player_of_match</th>\n",
       "      <th>method</th>\n",
       "      <th>match_number</th>\n",
       "      <th>winner_runs</th>\n",
       "      <th>toss_decision</th>\n",
       "      <th>date</th>\n",
       "      <th>venue</th>\n",
       "      <th>date1</th>\n",
       "      <th>reserve_umpire</th>\n",
       "      <th>eliminator</th>\n",
       "      <th>season</th>\n",
       "      <th>date2</th>\n",
       "      <th>toss_winner</th>\n",
       "      <th>city</th>\n",
       "      <th>match_referee</th>\n",
       "      <th>umpire1</th>\n",
       "      <th>outcome</th>\n",
       "      <th>gender</th>\n",
       "      <th>event</th>\n",
       "      <th>umpire2</th>\n",
       "      <th>winner</th>\n",
       "      <th>balls_per_over</th>\n",
       "      <th>team1</th>\n",
       "      <th>winner_wickets</th>\n",
       "      <th>tv_umpire</th>\n",
       "      <th>team2</th>\n",
       "      <th>neutralvenue</th>\n",
       "      <th>matchId</th>\n",
       "    </tr>\n",
       "  </thead>\n",
       "  <tbody>\n",
       "    <tr>\n",
       "      <th>0</th>\n",
       "      <td>Yuvraj Singh</td>\n",
       "      <td>NaN</td>\n",
       "      <td>1.0</td>\n",
       "      <td>35.0</td>\n",
       "      <td>field</td>\n",
       "      <td>2017-04-05</td>\n",
       "      <td>Rajiv Gandhi International Stadium, Uppal</td>\n",
       "      <td>NaN</td>\n",
       "      <td>N Pandit</td>\n",
       "      <td>NaN</td>\n",
       "      <td>2017</td>\n",
       "      <td>NaN</td>\n",
       "      <td>Royal Challengers Bangalore</td>\n",
       "      <td>Hyderabad</td>\n",
       "      <td>J Srinath</td>\n",
       "      <td>AY Dandekar</td>\n",
       "      <td>NaN</td>\n",
       "      <td>male</td>\n",
       "      <td>Indian Premier League</td>\n",
       "      <td>NJ Llong</td>\n",
       "      <td>Sunrisers Hyderabad</td>\n",
       "      <td>6</td>\n",
       "      <td>Sunrisers Hyderabad</td>\n",
       "      <td>NaN</td>\n",
       "      <td>A Deshmukh</td>\n",
       "      <td>Royal Challengers Bangalore</td>\n",
       "      <td>NaN</td>\n",
       "      <td>1082591</td>\n",
       "    </tr>\n",
       "  </tbody>\n",
       "</table>\n",
       "</div>"
      ],
      "text/plain": [
       "  player_of_match method  match_number  winner_runs toss_decision        date                                      venue date1 reserve_umpire eliminator season date2                  toss_winner       city match_referee      umpire1 outcome gender                  event   umpire2               winner  balls_per_over                team1  winner_wickets   tv_umpire                        team2 neutralvenue  matchId\n",
       "0  Yuvraj Singh    NaN    1.0           35.0         field         2017-04-05  Rajiv Gandhi International Stadium, Uppal  NaN   N Pandit       NaN        2017   NaN   Royal Challengers Bangalore  Hyderabad  J Srinath     AY Dandekar  NaN     male   Indian Premier League  NJ Llong  Sunrisers Hyderabad  6               Sunrisers Hyderabad NaN              A Deshmukh  Royal Challengers Bangalore  NaN          1082591"
      ]
     },
     "execution_count": 4,
     "metadata": {},
     "output_type": "execute_result"
    }
   ],
   "source": [
    "matches.head(1)"
   ]
  },
  {
   "cell_type": "code",
   "execution_count": 5,
   "id": "5de767aa",
   "metadata": {},
   "outputs": [
    {
     "data": {
      "text/html": [
       "<div>\n",
       "<style scoped>\n",
       "    .dataframe tbody tr th:only-of-type {\n",
       "        vertical-align: middle;\n",
       "    }\n",
       "\n",
       "    .dataframe tbody tr th {\n",
       "        vertical-align: top;\n",
       "    }\n",
       "\n",
       "    .dataframe thead th {\n",
       "        text-align: right;\n",
       "    }\n",
       "</style>\n",
       "<table border=\"1\" class=\"dataframe\">\n",
       "  <thead>\n",
       "    <tr style=\"text-align: right;\">\n",
       "      <th></th>\n",
       "      <th>matchId</th>\n",
       "      <th>inning</th>\n",
       "      <th>over_ball</th>\n",
       "      <th>over</th>\n",
       "      <th>ball</th>\n",
       "      <th>batting_team</th>\n",
       "      <th>bowling_team</th>\n",
       "      <th>batsman</th>\n",
       "      <th>non_striker</th>\n",
       "      <th>bowler</th>\n",
       "      <th>batsman_runs</th>\n",
       "      <th>extras</th>\n",
       "      <th>isWide</th>\n",
       "      <th>isNoBall</th>\n",
       "      <th>Byes</th>\n",
       "      <th>LegByes</th>\n",
       "      <th>Penalty</th>\n",
       "      <th>dismissal_kind</th>\n",
       "      <th>player_dismissed</th>\n",
       "    </tr>\n",
       "  </thead>\n",
       "  <tbody>\n",
       "    <tr>\n",
       "      <th>0</th>\n",
       "      <td>1082591</td>\n",
       "      <td>1</td>\n",
       "      <td>0.1</td>\n",
       "      <td>0</td>\n",
       "      <td>1</td>\n",
       "      <td>Sunrisers Hyderabad</td>\n",
       "      <td>Royal Challengers Bangalore</td>\n",
       "      <td>DA Warner</td>\n",
       "      <td>S Dhawan</td>\n",
       "      <td>TS Mills</td>\n",
       "      <td>0</td>\n",
       "      <td>0</td>\n",
       "      <td>NaN</td>\n",
       "      <td>NaN</td>\n",
       "      <td>NaN</td>\n",
       "      <td>NaN</td>\n",
       "      <td>NaN</td>\n",
       "      <td>NaN</td>\n",
       "      <td>NaN</td>\n",
       "    </tr>\n",
       "  </tbody>\n",
       "</table>\n",
       "</div>"
      ],
      "text/plain": [
       "   matchId  inning  over_ball  over  ball         batting_team                 bowling_team    batsman non_striker    bowler  batsman_runs  extras  isWide  isNoBall  Byes  LegByes  Penalty dismissal_kind player_dismissed\n",
       "0  1082591  1       0.1        0     1     Sunrisers Hyderabad  Royal Challengers Bangalore  DA Warner  S Dhawan    TS Mills  0             0      NaN     NaN       NaN   NaN      NaN       NaN            NaN            "
      ]
     },
     "execution_count": 5,
     "metadata": {},
     "output_type": "execute_result"
    }
   ],
   "source": [
    "deliveries.head(1)"
   ]
  },
  {
   "cell_type": "code",
   "execution_count": 46,
   "id": "9d04ad90",
   "metadata": {},
   "outputs": [],
   "source": [
    "# Matches and Innings\n",
    "\n",
    "# Matches : Included playing xi\n",
    "# Innings: When he gets a chance to bat\n",
    "\n",
    "# Batting Averages: Runs/Dismissals\n",
    "# Batting Strikerate: (Runs/Balls)*100\n",
    "# Runs per Innings: Runs/Innings\n",
    "# Balls per Boundary: balls/(fours + sixes)\n",
    "# Dots% = total_dots/balls\n",
    "# Boundary% = total_boundary/balls\n",
    "# Non-boundary% = (0s + 1s + 2s + 3s )/balls"
   ]
  },
  {
   "cell_type": "code",
   "execution_count": 47,
   "id": "8ec652ab",
   "metadata": {},
   "outputs": [],
   "source": [
    "batsman = 'Surya Kumar Yadav'\n",
    "matches = 28\n",
    "innings = 28\n",
    "\n",
    "runs = 1026\n",
    "balls = 550\n",
    "dismissals = 23\n",
    "fours = 93\n",
    "sixes = 59\n",
    "dots = 15180"
   ]
  },
  {
   "cell_type": "code",
   "execution_count": 48,
   "id": "e59abc82",
   "metadata": {},
   "outputs": [],
   "source": [
    "batting_avg = runs/dismissals"
   ]
  },
  {
   "cell_type": "code",
   "execution_count": 49,
   "id": "5a7d8418",
   "metadata": {},
   "outputs": [
    {
     "data": {
      "text/plain": [
       "44.608695652173914"
      ]
     },
     "execution_count": 49,
     "metadata": {},
     "output_type": "execute_result"
    }
   ],
   "source": [
    "batting_avg"
   ]
  },
  {
   "cell_type": "code",
   "execution_count": 50,
   "id": "d9510325",
   "metadata": {},
   "outputs": [],
   "source": [
    "batting_sr = (runs/balls)*100"
   ]
  },
  {
   "cell_type": "code",
   "execution_count": 51,
   "id": "71e01cf7",
   "metadata": {},
   "outputs": [
    {
     "data": {
      "text/plain": [
       "186.54545454545456"
      ]
     },
     "execution_count": 51,
     "metadata": {},
     "output_type": "execute_result"
    }
   ],
   "source": [
    "batting_sr"
   ]
  },
  {
   "cell_type": "code",
   "execution_count": 52,
   "id": "9a8873bf",
   "metadata": {},
   "outputs": [],
   "source": [
    "RPI = runs/innings"
   ]
  },
  {
   "cell_type": "code",
   "execution_count": 53,
   "id": "c65a8ed0",
   "metadata": {},
   "outputs": [
    {
     "data": {
      "text/plain": [
       "36.642857142857146"
      ]
     },
     "execution_count": 53,
     "metadata": {},
     "output_type": "execute_result"
    }
   ],
   "source": [
    "RPI"
   ]
  },
  {
   "cell_type": "code",
   "execution_count": 54,
   "id": "b5b17ca3",
   "metadata": {},
   "outputs": [],
   "source": [
    "bpb = balls/(fours + sixes)"
   ]
  },
  {
   "cell_type": "code",
   "execution_count": 55,
   "id": "a0c02ff1",
   "metadata": {},
   "outputs": [
    {
     "data": {
      "text/plain": [
       "3.6184210526315788"
      ]
     },
     "execution_count": 55,
     "metadata": {},
     "output_type": "execute_result"
    }
   ],
   "source": [
    "bpb"
   ]
  },
  {
   "cell_type": "code",
   "execution_count": 58,
   "id": "49d550b4",
   "metadata": {},
   "outputs": [],
   "source": [
    "d = dots/balls"
   ]
  },
  {
   "cell_type": "code",
   "execution_count": 59,
   "id": "1cdc8d1a",
   "metadata": {},
   "outputs": [
    {
     "data": {
      "text/plain": [
       "27.6"
      ]
     },
     "execution_count": 59,
     "metadata": {},
     "output_type": "execute_result"
    }
   ],
   "source": [
    "# Dots%\n",
    "d"
   ]
  },
  {
   "cell_type": "code",
   "execution_count": 60,
   "id": "06549281",
   "metadata": {},
   "outputs": [],
   "source": [
    "b = (fours + sixes)/balls"
   ]
  },
  {
   "cell_type": "code",
   "execution_count": 61,
   "id": "37e2bd8b",
   "metadata": {},
   "outputs": [
    {
     "data": {
      "text/plain": [
       "0.27636363636363637"
      ]
     },
     "execution_count": 61,
     "metadata": {},
     "output_type": "execute_result"
    }
   ],
   "source": [
    "# Boundary%\n",
    "b"
   ]
  },
  {
   "cell_type": "code",
   "execution_count": 63,
   "id": "7e18c5aa",
   "metadata": {},
   "outputs": [],
   "source": [
    "# Non-bounday%\n",
    "n = (runs - fours + sixes)/balls"
   ]
  },
  {
   "cell_type": "code",
   "execution_count": 64,
   "id": "83d99eb6",
   "metadata": {},
   "outputs": [
    {
     "data": {
      "text/plain": [
       "1.8036363636363637"
      ]
     },
     "execution_count": 64,
     "metadata": {},
     "output_type": "execute_result"
    }
   ],
   "source": [
    "n"
   ]
  },
  {
   "cell_type": "code",
   "execution_count": null,
   "id": "24e3302b",
   "metadata": {},
   "outputs": [],
   "source": []
  }
 ],
 "metadata": {
  "kernelspec": {
   "display_name": "Python 3 (ipykernel)",
   "language": "python",
   "name": "python3"
  },
  "language_info": {
   "codemirror_mode": {
    "name": "ipython",
    "version": 3
   },
   "file_extension": ".py",
   "mimetype": "text/x-python",
   "name": "python",
   "nbconvert_exporter": "python",
   "pygments_lexer": "ipython3",
   "version": "3.9.12"
  }
 },
 "nbformat": 4,
 "nbformat_minor": 5
}

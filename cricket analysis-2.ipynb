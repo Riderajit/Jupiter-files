{
 "cells": [
  {
   "cell_type": "code",
   "execution_count": 1,
   "id": "765faa4e",
   "metadata": {},
   "outputs": [],
   "source": [
    "import pandas as pd\n",
    "import numpy as np\n",
    "import math\n",
    "import matplotlib.pyplot as plt\n",
    "\n",
    "import warnings\n",
    "warnings.filterwarnings('ignore')\n",
    "\n",
    "\n",
    "pd.set_option('display.max_columns', None)  \n",
    "pd.set_option('display.expand_frame_repr', False)\n",
    "pd.set_option('max_colwidth', -1)"
   ]
  },
  {
   "cell_type": "code",
   "execution_count": 2,
   "id": "b77968b8",
   "metadata": {},
   "outputs": [],
   "source": [
    "deliveries = pd.read_csv('deliveries_updated.csv')"
   ]
  },
  {
   "cell_type": "code",
   "execution_count": 3,
   "id": "547d3878",
   "metadata": {},
   "outputs": [],
   "source": [
    "df = deliveries.copy()"
   ]
  },
  {
   "cell_type": "code",
   "execution_count": 4,
   "id": "1e84ad5a",
   "metadata": {},
   "outputs": [
    {
     "data": {
      "text/html": [
       "<div>\n",
       "<style scoped>\n",
       "    .dataframe tbody tr th:only-of-type {\n",
       "        vertical-align: middle;\n",
       "    }\n",
       "\n",
       "    .dataframe tbody tr th {\n",
       "        vertical-align: top;\n",
       "    }\n",
       "\n",
       "    .dataframe thead th {\n",
       "        text-align: right;\n",
       "    }\n",
       "</style>\n",
       "<table border=\"1\" class=\"dataframe\">\n",
       "  <thead>\n",
       "    <tr style=\"text-align: right;\">\n",
       "      <th></th>\n",
       "      <th>matchId</th>\n",
       "      <th>inning</th>\n",
       "      <th>over_ball</th>\n",
       "      <th>over</th>\n",
       "      <th>ball</th>\n",
       "      <th>batting_team</th>\n",
       "      <th>bowling_team</th>\n",
       "      <th>batsman</th>\n",
       "      <th>non_striker</th>\n",
       "      <th>bowler</th>\n",
       "      <th>batsman_runs</th>\n",
       "      <th>extras</th>\n",
       "      <th>isWide</th>\n",
       "      <th>isNoBall</th>\n",
       "      <th>Byes</th>\n",
       "      <th>LegByes</th>\n",
       "      <th>Penalty</th>\n",
       "      <th>dismissal_kind</th>\n",
       "      <th>player_dismissed</th>\n",
       "    </tr>\n",
       "  </thead>\n",
       "  <tbody>\n",
       "    <tr>\n",
       "      <th>0</th>\n",
       "      <td>1082591</td>\n",
       "      <td>1</td>\n",
       "      <td>0.1</td>\n",
       "      <td>0</td>\n",
       "      <td>1</td>\n",
       "      <td>Sunrisers Hyderabad</td>\n",
       "      <td>Royal Challengers Bangalore</td>\n",
       "      <td>DA Warner</td>\n",
       "      <td>S Dhawan</td>\n",
       "      <td>TS Mills</td>\n",
       "      <td>0</td>\n",
       "      <td>0</td>\n",
       "      <td>NaN</td>\n",
       "      <td>NaN</td>\n",
       "      <td>NaN</td>\n",
       "      <td>NaN</td>\n",
       "      <td>NaN</td>\n",
       "      <td>NaN</td>\n",
       "      <td>NaN</td>\n",
       "    </tr>\n",
       "    <tr>\n",
       "      <th>1</th>\n",
       "      <td>1082591</td>\n",
       "      <td>1</td>\n",
       "      <td>0.2</td>\n",
       "      <td>0</td>\n",
       "      <td>2</td>\n",
       "      <td>Sunrisers Hyderabad</td>\n",
       "      <td>Royal Challengers Bangalore</td>\n",
       "      <td>DA Warner</td>\n",
       "      <td>S Dhawan</td>\n",
       "      <td>TS Mills</td>\n",
       "      <td>0</td>\n",
       "      <td>0</td>\n",
       "      <td>NaN</td>\n",
       "      <td>NaN</td>\n",
       "      <td>NaN</td>\n",
       "      <td>NaN</td>\n",
       "      <td>NaN</td>\n",
       "      <td>NaN</td>\n",
       "      <td>NaN</td>\n",
       "    </tr>\n",
       "  </tbody>\n",
       "</table>\n",
       "</div>"
      ],
      "text/plain": [
       "   matchId  inning  over_ball  over  ball         batting_team                 bowling_team    batsman non_striker    bowler  batsman_runs  extras  isWide  isNoBall  Byes  LegByes  Penalty dismissal_kind player_dismissed\n",
       "0  1082591  1       0.1        0     1     Sunrisers Hyderabad  Royal Challengers Bangalore  DA Warner  S Dhawan    TS Mills  0             0      NaN     NaN       NaN   NaN      NaN       NaN            NaN            \n",
       "1  1082591  1       0.2        0     2     Sunrisers Hyderabad  Royal Challengers Bangalore  DA Warner  S Dhawan    TS Mills  0             0      NaN     NaN       NaN   NaN      NaN       NaN            NaN            "
      ]
     },
     "execution_count": 4,
     "metadata": {},
     "output_type": "execute_result"
    }
   ],
   "source": [
    "df.head(2)"
   ]
  },
  {
   "cell_type": "code",
   "execution_count": 6,
   "id": "c8469289",
   "metadata": {},
   "outputs": [],
   "source": [
    "f1 = lambda x: x*x"
   ]
  },
  {
   "cell_type": "code",
   "execution_count": 7,
   "id": "e6855d0c",
   "metadata": {},
   "outputs": [
    {
     "data": {
      "text/plain": [
       "9"
      ]
     },
     "execution_count": 7,
     "metadata": {},
     "output_type": "execute_result"
    }
   ],
   "source": [
    "f1(3)"
   ]
  },
  {
   "cell_type": "code",
   "execution_count": 8,
   "id": "df4993e2",
   "metadata": {},
   "outputs": [],
   "source": [
    "df['isDot'] = df['batsman_runs'].apply(lambda x : 1 if x == 0 else 0)\n",
    "df['isOne'] = df['batsman_runs'].apply(lambda x : 1 if x == 1 else 0)\n",
    "df['isTwo'] = df['batsman_runs'].apply(lambda x : 1 if x == 2 else 0)\n",
    "df['isThree'] = df['batsman_runs'].apply(lambda x : 1 if x == 3 else 0)\n",
    "df['isFour'] = df['batsman_runs'].apply(lambda x : 1 if x == 4 else 0)\n",
    "df['isSix'] = df['batsman_runs'].apply(lambda x : 1 if x == 6 else 0)"
   ]
  },
  {
   "cell_type": "code",
   "execution_count": 10,
   "id": "4082ecfa",
   "metadata": {},
   "outputs": [
    {
     "data": {
      "text/html": [
       "<div>\n",
       "<style scoped>\n",
       "    .dataframe tbody tr th:only-of-type {\n",
       "        vertical-align: middle;\n",
       "    }\n",
       "\n",
       "    .dataframe tbody tr th {\n",
       "        vertical-align: top;\n",
       "    }\n",
       "\n",
       "    .dataframe thead th {\n",
       "        text-align: right;\n",
       "    }\n",
       "</style>\n",
       "<table border=\"1\" class=\"dataframe\">\n",
       "  <thead>\n",
       "    <tr style=\"text-align: right;\">\n",
       "      <th></th>\n",
       "      <th>matchId</th>\n",
       "      <th>inning</th>\n",
       "      <th>over_ball</th>\n",
       "      <th>over</th>\n",
       "      <th>ball</th>\n",
       "      <th>batting_team</th>\n",
       "      <th>bowling_team</th>\n",
       "      <th>batsman</th>\n",
       "      <th>non_striker</th>\n",
       "      <th>bowler</th>\n",
       "      <th>batsman_runs</th>\n",
       "      <th>extras</th>\n",
       "      <th>isWide</th>\n",
       "      <th>isNoBall</th>\n",
       "      <th>Byes</th>\n",
       "      <th>LegByes</th>\n",
       "      <th>Penalty</th>\n",
       "      <th>dismissal_kind</th>\n",
       "      <th>player_dismissed</th>\n",
       "      <th>isDot</th>\n",
       "      <th>isOne</th>\n",
       "      <th>isTwo</th>\n",
       "      <th>isThree</th>\n",
       "      <th>isFour</th>\n",
       "      <th>isSix</th>\n",
       "    </tr>\n",
       "  </thead>\n",
       "  <tbody>\n",
       "    <tr>\n",
       "      <th>0</th>\n",
       "      <td>1082591</td>\n",
       "      <td>1</td>\n",
       "      <td>0.1</td>\n",
       "      <td>0</td>\n",
       "      <td>1</td>\n",
       "      <td>Sunrisers Hyderabad</td>\n",
       "      <td>Royal Challengers Bangalore</td>\n",
       "      <td>DA Warner</td>\n",
       "      <td>S Dhawan</td>\n",
       "      <td>TS Mills</td>\n",
       "      <td>0</td>\n",
       "      <td>0</td>\n",
       "      <td>NaN</td>\n",
       "      <td>NaN</td>\n",
       "      <td>NaN</td>\n",
       "      <td>NaN</td>\n",
       "      <td>NaN</td>\n",
       "      <td>NaN</td>\n",
       "      <td>NaN</td>\n",
       "      <td>1</td>\n",
       "      <td>0</td>\n",
       "      <td>0</td>\n",
       "      <td>0</td>\n",
       "      <td>0</td>\n",
       "      <td>0</td>\n",
       "    </tr>\n",
       "  </tbody>\n",
       "</table>\n",
       "</div>"
      ],
      "text/plain": [
       "   matchId  inning  over_ball  over  ball         batting_team                 bowling_team    batsman non_striker    bowler  batsman_runs  extras  isWide  isNoBall  Byes  LegByes  Penalty dismissal_kind player_dismissed  isDot  isOne  isTwo  isThree  isFour  isSix\n",
       "0  1082591  1       0.1        0     1     Sunrisers Hyderabad  Royal Challengers Bangalore  DA Warner  S Dhawan    TS Mills  0             0      NaN     NaN       NaN   NaN      NaN       NaN            NaN              1      0      0      0        0       0    "
      ]
     },
     "execution_count": 10,
     "metadata": {},
     "output_type": "execute_result"
    }
   ],
   "source": [
    "df.head(1)"
   ]
  },
  {
   "cell_type": "code",
   "execution_count": 11,
   "id": "d4336a27",
   "metadata": {},
   "outputs": [
    {
     "data": {
      "text/plain": [
       "array(['DA Warner', 'S Dhawan', 'MC Henriques', 'Yuvraj Singh',\n",
       "       'DJ Hooda', 'BCJ Cutting', 'CH Gayle', 'Mandeep Singh', 'TM Head',\n",
       "       'KM Jadhav', 'SR Watson', 'Sachin Baby', 'STR Binny', 'S Aravind',\n",
       "       'YS Chahal', 'TS Mills', 'A Choudhary', 'PA Patel', 'JC Buttler',\n",
       "       'RG Sharma', 'N Rana', 'AT Rayudu', 'KH Pandya', 'KA Pollard',\n",
       "       'HH Pandya', 'TG Southee', 'AM Rahane', 'MA Agarwal', 'SPD Smith',\n",
       "       'BA Stokes', 'MS Dhoni', 'JJ Roy', 'BB McCullum', 'SK Raina',\n",
       "       'AJ Finch', 'KD Karthik', 'G Gambhir', 'CA Lynn', 'MK Tiwary',\n",
       "       'DT Christian', 'HM Amla', 'M Vohra', 'WP Saha', 'AR Patel',\n",
       "       'GJ Maxwell', 'DA Miller', 'Vishnu Vinod', 'Iqbal Abdulla',\n",
       "       'P Negi', 'AP Tare', 'SW Billings', 'KK Nair', 'SV Samson',\n",
       "       'RR Pant', 'CH Morris', 'CR Brathwaite', 'PJ Cummins', 'A Mishra',\n",
       "       'S Nadeem', 'Z Khan', 'DR Smith', 'DS Kulkarni', 'P Kumar',\n",
       "       'Basil Thampi', 'RV Uthappa', 'MK Pandey', 'YK Pathan', 'SA Yadav',\n",
       "       'CR Woakes', 'SP Narine', 'Harbhajan Singh', 'AB de Villiers',\n",
       "       'CJ Anderson', 'F du Plessis', 'RA Tripathi', 'R Bhatia',\n",
       "       'DL Chahar', 'A Zampa', 'AB Dinda', 'Imran Tahir', 'NV Ojha',\n",
       "       'V Shankar', 'Rashid Khan', 'B Kumar', 'MP Stoinis', 'MM Sharma',\n",
       "       'VR Aaron', 'V Kohli', 'MJ McClenaghan', 'Ankit Sharma',\n",
       "       'SN Thakur', 'RD Chahar', 'LH Ferguson', 'C de Grandhomme',\n",
       "       'Bipul Sharma', 'SS Iyer', 'EJG Morgan', 'KC Cariappa',\n",
       "       'Sandeep Sharma', 'Ishan Kishan', 'JD Unadkat', 'AF Milne',\n",
       "       'S Badree', 'AD Mathews', 'Mohammed Shami', 'Mohammad Nabi',\n",
       "       'I Sharma', 'RA Jadeja', 'AJ Tye', 'KS Williamson', 'SE Marsh',\n",
       "       'Shakib Al Hasan', 'JP Faulkner', 'MG Johnson', 'K Rabada',\n",
       "       'AD Nath', 'NM Coulter-Nile', 'Kuldeep Yadav', 'UT Yadav',\n",
       "       'Washington Sundar', 'KV Sharma', 'DM Bravo', 'AR Bawne',\n",
       "       'SP Jackson', 'MJ Guptill', 'Anureet Singh', 'IK Pathan',\n",
       "       'Ankit Soni', 'JJ Bumrah', 'SL Malinga', 'PJ Sangwan', 'S Kaul',\n",
       "       'LMP Simmons', 'MN Samuels', 'Swapnil Singh', 'R Tewatia',\n",
       "       'MM Patel', 'SS Tiwary', 'TA Boult', 'CJ Jordan', 'IR Jaggi',\n",
       "       'PP Chawla', 'AS Rajpoot', 'E Lewis', 'DJ Bravo', 'MA Wood',\n",
       "       'C Munro', 'KL Rahul', 'Q de Kock', 'SN Khan', 'RK Singh',\n",
       "       'AD Russell', 'R Vinay Kumar', 'DJM Short', 'K Gowtham', 'S Gopal',\n",
       "       'B Laughlin', 'TK Curran', 'M Markande', 'B Stanlake', 'R Ashwin',\n",
       "       'Mujeeb Ur Rahman', 'A Dananjaya', 'Shubman Gill', 'Shivam Mavi',\n",
       "       'M Vijay', 'Mohammed Siraj', 'H Klaasen', 'RK Bhui', 'JC Archer',\n",
       "       'BB Sran', 'PP Shaw', 'LE Plunkett', 'Mustafizur Rahman',\n",
       "       'AD Hales', 'MK Lomror', 'JP Duminy', 'M Ashwin', 'DR Shorey',\n",
       "       'MM Ali', 'M Prasidh Krishna', 'HV Patel', 'P Chopra',\n",
       "       'JPR Scantlebury-Searles', 'Abhishek Sharma', 'IS Sodhi',\n",
       "       'SP Goswami', 'SO Hetmyer', 'S Dube', 'NA Saini', 'JM Bairstow',\n",
       "       'CA Ingram', 'KMA Paul', 'Rasikh Salam', 'N Pooran', 'NS Naik',\n",
       "       'GH Vihari', 'P Ray Barman', 'SM Curran', 'GC Viljoen',\n",
       "       'Avesh Khan', 'S Lamichhane', 'HF Gurney', 'SD Lad', 'AS Joseph',\n",
       "       'R Parag', 'MJ Santner', 'JL Denly', 'LS Livingstone', 'KK Ahmed',\n",
       "       'AJ Turner', 'Harpreet Brar', 'SE Rutherford', 'Y Prithvi Raj',\n",
       "       'Gurkeerat Singh', 'P Simran Singh', 'J Suchith', 'JL Pattinson',\n",
       "       'A Nortje', 'T Banton', 'D Padikkal', 'YBK Jaiswal', 'RD Gaikwad',\n",
       "       'TU Deshpande', 'Abdul Samad', 'JO Holder', 'PK Garg',\n",
       "       'JR Philippe', 'Kartik Tyagi', 'KL Nagarkoti', 'CV Varun',\n",
       "       'I Udana', 'JDS Neesham', 'Ravi Bishnoi', 'Shahbaz Ahmed',\n",
       "       'AT Carey', 'DW Steyn', 'N Jagadeesan', 'T Natarajan', 'MR Marsh',\n",
       "       'P Dubey', 'SS Cottrell', 'Arshdeep Singh', 'DR Sams', 'M Jansen',\n",
       "       'RM Patidar', 'KA Jamieson', 'M Shahrukh Khan', 'JA Richardson',\n",
       "       'Lalit Yadav', 'Virat Singh', 'J Yadav', 'FA Allen', 'C Sakariya',\n",
       "       'DJ Malan', 'KS Bharat', 'PWH de Silva', 'VR Iyer', 'GD Phillips',\n",
       "       'GHS Garton', 'AK Markram', 'K Yadav', 'T Shamsi', 'NT Ellis',\n",
       "       'RV Patel', 'TL Seifert', 'Anmolpreet Singh', 'Anuj Rawat',\n",
       "       'TH David', 'SC Ganguly', 'RT Ponting', 'DJ Hussey',\n",
       "       'Mohammad Hafeez', 'R Dravid', 'W Jaffer', 'JH Kallis', 'CL White',\n",
       "       'MV Boucher', 'B Akhil', 'AA Noffke', 'SB Joshi', 'ML Hayden',\n",
       "       'MEK Hussey', 'JDP Oram', 'S Badrinath', 'K Goel', 'JR Hopes',\n",
       "       'KC Sangakkara', 'SM Katich', 'T Kohli', 'M Kaif', 'DS Lehmann',\n",
       "       'M Rawat', 'D Salunkhe', 'SK Warne', 'SK Trivedi', 'V Sehwag',\n",
       "       'L Ronchi', 'ST Jayasuriya', 'DJ Thornely', 'PR Shah', 'AM Nayar',\n",
       "       'SM Pollock', 'S Chanderpaul', 'LRPL Taylor', 'AC Gilchrist',\n",
       "       'Y Venugopal Rao', 'VVS Laxman', 'A Symonds', 'SB Styris',\n",
       "       'AS Yadav', 'SB Bangar', 'WPUJC Vaas', 'RP Singh', 'LR Shukla',\n",
       "       'DPMD Jayawardene', 'S Sohal', 'B Lee', 'WA Mota', 'Kamran Akmal',\n",
       "       'Shahid Afridi', 'MA Khote', 'A Nehra', 'GC Smith', 'Pankaj Singh',\n",
       "       'RR Sarwan', 'S Sreesanth', 'VRV Singh', 'AB Agarkar', 'M Kartik',\n",
       "       'Shoaib Malik', 'MF Maharoof', 'VY Mahesh', 'TM Srivastava',\n",
       "       'B Chipli', 'DB Das', 'HH Gibbs', 'DNT Zoysa', 'D Kalyankrishna',\n",
       "       'SA Asnodkar', 'Sohail Tanvir', 'Salman Butt', 'BJ Hodge',\n",
       "       'Umar Gul', 'SP Fleming', 'S Vidyut', 'JA Morkel', 'LPC Silva',\n",
       "       'DB Ravi Teja', 'Misbah-ul-Haq', 'YV Takawale', 'RR Raje',\n",
       "       'Mohammad Asif', 'GD McGrath', 'Joginder Sharma', 'MS Gony',\n",
       "       'M Muralitharan', 'M Ntini', 'DT Patil', 'A Kumble', 'S Anirudha',\n",
       "       'CK Kapugedera', 'A Chopra', 'T Taibu', 'J Arunkumar', 'PP Ojha',\n",
       "       'SR Tendulkar', 'U Kaul', 'TM Dilshan', 'AD Mascarenhas',\n",
       "       'Niraj Patel', 'LA Pomersbach', 'Younis Khan', 'PM Sarvesh Kumar',\n",
       "       'DP Vijaykumar', 'Shoaib Akhtar', 'Abdur Razzak', 'H Das',\n",
       "       'SD Chitnis', 'CRD Fernando', 'VS Yeligati', 'L Balaji',\n",
       "       'A Mukund', 'RR Powar', 'A Flintoff', 'T Thushara', 'JD Ryder',\n",
       "       'KP Pietersen', 'T Henderson', 'Kamran Khan', 'RS Bopara',\n",
       "       'R Bishnoi', 'FH Edwards', 'PC Valthaty', 'RJ Quiney', 'AS Raut',\n",
       "       'Yashpal Singh', 'M Manhas', 'AA Bilakhia', 'AN Ghosh',\n",
       "       'BAW Mendis', 'DL Vettori', 'MN van Wyk', 'RE van der Merwe',\n",
       "       'TL Suman', 'Shoaib Ahmed', 'GR Napier', 'KP Appanna',\n",
       "       'LA Carseldine', 'SM Harwood', 'SB Jakati', 'RJ Harris',\n",
       "       'D du Preez', 'M Morkel', 'J Botha', 'C Nanda', 'Mashrafe Mortaza',\n",
       "       'A Singh', 'GJ Bailey', 'AB McDonald', 'Y Nagar', 'SS Shaikh',\n",
       "       'Mohammad Ashraful', 'CA Pujara', 'OA Shah', 'Anirudh Singh',\n",
       "       'Jaskaran Singh', 'R Sathish', 'R McLaren', 'AA Jhunjhunwala',\n",
       "       'P Dogra', 'A Uniyal', 'MS Bisla', 'YA Abdulla', 'JM Kemp',\n",
       "       'S Tyagi', 'RS Gavaskar', 'SE Bond', 'S Ladda', 'DP Nannes',\n",
       "       'MJ Lumb', 'DR Martyn', 'S Narwal', 'AB Barath', 'FY Fazal',\n",
       "       'AC Voges', 'MD Mishra', 'J Theron', 'SJ Srivastava', 'R Sharma',\n",
       "       'SW Tait', 'KB Arun Karthik', 'KAJ Roach', 'PD Collingwood',\n",
       "       'CK Langeveldt', 'VS Malik', 'A Mithun', 'AP Dole', 'AN Ahmed',\n",
       "       'RS Sodhi', 'DE Bollinger', 'S Sriram', 'B Sumanth', 'C Madan',\n",
       "       'AG Paunikar', 'Harmeet Singh', 'RV Gomez', 'AUK Pathan',\n",
       "       'UBT Chand', 'DJ Jacobs', 'Sunny Singh', 'NJ Rimmington',\n",
       "       'AL Menaria', 'WD Parnell', 'JJ van der Wath', 'R Ninan',\n",
       "       'MS Wade', 'TD Paine', 'SB Wagh', 'AC Thomas', 'JEC Franklin',\n",
       "       'DH Yagnik', 'S Randiv', 'BJ Haddin', 'NLTC Perera', 'NL McCullum',\n",
       "       'JE Taylor', 'J Syed Mohammad', 'RN ten Doeschate', 'TR Birt',\n",
       "       'AG Murtaza', 'Harpreet Singh', 'M Klinger', 'AC Blizzard',\n",
       "       'I Malhotra', 'L Ablish', 'P Parameswaran', 'CJ Ferguson',\n",
       "       'AA Chavan', 'ND Doshi', 'Y Gnaneswara Rao', 'S Rana', 'BA Bhatt',\n",
       "       'RE Levi', 'KK Cooper', 'DAJ Bracewell', 'DJ Harris', 'GB Hogg',\n",
       "       'RR Bhatkal', 'CJ McKay', 'N Saini', 'Azhar Mahmood',\n",
       "       'RJ Peterson', 'KMDN Kulasekara', 'A Ashish Reddy',\n",
       "       'V Pratap Singh', 'BB Samantray', 'MJ Clarke', 'AP Majumdar',\n",
       "       'PA Reddy', 'K Upadhyay', 'P Awana', 'A Chandila', 'Sunny Gupta',\n",
       "       'MC Juneja', 'MDKJ Perera', 'R Shukla', 'BMAJ Mendis', 'R Rampaul',\n",
       "       'SMSM Senanayake', 'BJ Rohrer', 'R Dhawan', 'LJ Wright',\n",
       "       'IC Pandey', 'CM Gautam', 'X Thalaivan Sargunam', 'DJG Sammy',\n",
       "       'KW Richardson', 'UA Birla', 'Parvez Rasool', 'PV Tambe',\n",
       "       'NJ Maddinson', 'MA Starc', 'BR Dunk', 'RR Rossouw',\n",
       "       'Shivam Sharma', 'VH Zol', 'BE Hendricks', 'M de Lange',\n",
       "       'Karanveer Singh', 'SA Abbott', 'RG More', 'D Wiese',\n",
       "       'DJ Muthuswami', 'P Sahu', 'KJ Abbott', 'PSP Handscomb',\n",
       "       'UT Khawaja', 'F Behardien', 'S Kaushik', 'ER Dwivedi'],\n",
       "      dtype=object)"
      ]
     },
     "execution_count": 11,
     "metadata": {},
     "output_type": "execute_result"
    }
   ],
   "source": [
    "df['batsman'].unique()"
   ]
  },
  {
   "cell_type": "code",
   "execution_count": 12,
   "id": "4ea864fb",
   "metadata": {},
   "outputs": [
    {
     "data": {
      "text/plain": [
       "561"
      ]
     },
     "execution_count": 12,
     "metadata": {},
     "output_type": "execute_result"
    }
   ],
   "source": [
    "len(df['batsman'].unique())"
   ]
  },
  {
   "cell_type": "code",
   "execution_count": 14,
   "id": "657c13b5",
   "metadata": {},
   "outputs": [
    {
     "data": {
      "text/plain": [
       "batsman\n",
       "A Ashish Reddy    280\n",
       "A Chandila        4  \n",
       "A Chopra          53 \n",
       "A Choudhary       25 \n",
       "A Dananjaya       4  \n",
       "Name: batsman_runs, dtype: int64"
      ]
     },
     "execution_count": 14,
     "metadata": {},
     "output_type": "execute_result"
    }
   ],
   "source": [
    "df.groupby(['batsman'])['batsman_runs'].sum().head(5)"
   ]
  },
  {
   "cell_type": "code",
   "execution_count": 15,
   "id": "210253a3",
   "metadata": {},
   "outputs": [
    {
     "data": {
      "text/plain": [
       "batsman\n",
       "A Ashish Reddy    1.428571\n",
       "A Chandila        0.571429\n",
       "A Chopra          0.706667\n",
       "A Choudhary       1.250000\n",
       "A Dananjaya       0.800000\n",
       "Name: batsman_runs, dtype: float64"
      ]
     },
     "execution_count": 15,
     "metadata": {},
     "output_type": "execute_result"
    }
   ],
   "source": [
    "df.groupby(['batsman'])['batsman_runs'].mean().head(5)"
   ]
  },
  {
   "cell_type": "code",
   "execution_count": 18,
   "id": "855c5858",
   "metadata": {},
   "outputs": [
    {
     "data": {
      "text/plain": [
       "batsman         matchId\n",
       "A Ashish Reddy  548346     10\n",
       "                548352     3 \n",
       "                548359     8 \n",
       "                548373     10\n",
       "                548376     4 \n",
       "Name: batsman_runs, dtype: int64"
      ]
     },
     "execution_count": 18,
     "metadata": {},
     "output_type": "execute_result"
    }
   ],
   "source": [
    "df.groupby(['batsman', 'matchId'])['batsman_runs'].sum().head(5)"
   ]
  },
  {
   "cell_type": "code",
   "execution_count": 20,
   "id": "94a9deda",
   "metadata": {},
   "outputs": [
    {
     "data": {
      "text/plain": [
       "batsman    matchId\n",
       "DA Warner  392206     51\n",
       "           392211     36\n",
       "           392215     21\n",
       "           392219     36\n",
       "           392223     4 \n",
       "Name: batsman_runs, dtype: int64"
      ]
     },
     "execution_count": 20,
     "metadata": {},
     "output_type": "execute_result"
    }
   ],
   "source": [
    "df[df.batsman == 'DA Warner'].groupby(['batsman', 'matchId'])['batsman_runs'].sum().head(5)"
   ]
  },
  {
   "cell_type": "code",
   "execution_count": 22,
   "id": "140da91e",
   "metadata": {},
   "outputs": [],
   "source": [
    "# What is David Warner's score in every match\n",
    "# 3 things = df, groupby columns, aggregate functions\n",
    "# df[df.batsman == 'DA Warner'].groupby(['batsman', 'matchId'])['batsman_runs'].sum().head(5)"
   ]
  },
  {
   "cell_type": "code",
   "execution_count": 23,
   "id": "c3e82cf1",
   "metadata": {},
   "outputs": [
    {
     "data": {
      "text/plain": [
       "matchId  batsman    \n",
       "335982   AA Noffke      9  \n",
       "         B Akhil        0  \n",
       "         BB McCullum    158\n",
       "         CL White       6  \n",
       "         DJ Hussey      12 \n",
       "Name: batsman_runs, dtype: int64"
      ]
     },
     "execution_count": 23,
     "metadata": {},
     "output_type": "execute_result"
    }
   ],
   "source": [
    "# What are the score of different batsman in each match\n",
    "# 3 things = df, groupby columns, aggregate functions\n",
    "df.groupby(['matchId','batsman' ])['batsman_runs'].sum().head(5)"
   ]
  },
  {
   "cell_type": "code",
   "execution_count": 26,
   "id": "aeda179d",
   "metadata": {},
   "outputs": [
    {
     "data": {
      "text/html": [
       "<div>\n",
       "<style scoped>\n",
       "    .dataframe tbody tr th:only-of-type {\n",
       "        vertical-align: middle;\n",
       "    }\n",
       "\n",
       "    .dataframe tbody tr th {\n",
       "        vertical-align: top;\n",
       "    }\n",
       "\n",
       "    .dataframe thead th {\n",
       "        text-align: right;\n",
       "    }\n",
       "</style>\n",
       "<table border=\"1\" class=\"dataframe\">\n",
       "  <thead>\n",
       "    <tr style=\"text-align: right;\">\n",
       "      <th></th>\n",
       "      <th>batsman_runs</th>\n",
       "    </tr>\n",
       "    <tr>\n",
       "      <th>batsman</th>\n",
       "      <th></th>\n",
       "    </tr>\n",
       "  </thead>\n",
       "  <tbody>\n",
       "    <tr>\n",
       "      <th>A Ashish Reddy</th>\n",
       "      <td>280</td>\n",
       "    </tr>\n",
       "    <tr>\n",
       "      <th>A Chandila</th>\n",
       "      <td>4</td>\n",
       "    </tr>\n",
       "    <tr>\n",
       "      <th>A Chopra</th>\n",
       "      <td>53</td>\n",
       "    </tr>\n",
       "    <tr>\n",
       "      <th>A Choudhary</th>\n",
       "      <td>25</td>\n",
       "    </tr>\n",
       "    <tr>\n",
       "      <th>A Dananjaya</th>\n",
       "      <td>4</td>\n",
       "    </tr>\n",
       "  </tbody>\n",
       "</table>\n",
       "</div>"
      ],
      "text/plain": [
       "                batsman_runs\n",
       "batsman                     \n",
       "A Ashish Reddy  280         \n",
       "A Chandila      4           \n",
       "A Chopra        53          \n",
       "A Choudhary     25          \n",
       "A Dananjaya     4           "
      ]
     },
     "execution_count": 26,
     "metadata": {},
     "output_type": "execute_result"
    }
   ],
   "source": [
    "pd.DataFrame(df.groupby(['batsman'])['batsman_runs'].sum()).head(5)"
   ]
  },
  {
   "cell_type": "code",
   "execution_count": 29,
   "id": "91013502",
   "metadata": {},
   "outputs": [
    {
     "data": {
      "text/html": [
       "<div>\n",
       "<style scoped>\n",
       "    .dataframe tbody tr th:only-of-type {\n",
       "        vertical-align: middle;\n",
       "    }\n",
       "\n",
       "    .dataframe tbody tr th {\n",
       "        vertical-align: top;\n",
       "    }\n",
       "\n",
       "    .dataframe thead th {\n",
       "        text-align: right;\n",
       "    }\n",
       "</style>\n",
       "<table border=\"1\" class=\"dataframe\">\n",
       "  <thead>\n",
       "    <tr style=\"text-align: right;\">\n",
       "      <th></th>\n",
       "      <th>batsman_runs</th>\n",
       "    </tr>\n",
       "    <tr>\n",
       "      <th>batsman</th>\n",
       "      <th></th>\n",
       "    </tr>\n",
       "  </thead>\n",
       "  <tbody>\n",
       "    <tr>\n",
       "      <th>V Kohli</th>\n",
       "      <td>6293</td>\n",
       "    </tr>\n",
       "    <tr>\n",
       "      <th>S Dhawan</th>\n",
       "      <td>5784</td>\n",
       "    </tr>\n",
       "    <tr>\n",
       "      <th>RG Sharma</th>\n",
       "      <td>5613</td>\n",
       "    </tr>\n",
       "    <tr>\n",
       "      <th>SK Raina</th>\n",
       "      <td>5536</td>\n",
       "    </tr>\n",
       "    <tr>\n",
       "      <th>DA Warner</th>\n",
       "      <td>5451</td>\n",
       "    </tr>\n",
       "    <tr>\n",
       "      <th>AB de Villiers</th>\n",
       "      <td>5181</td>\n",
       "    </tr>\n",
       "    <tr>\n",
       "      <th>CH Gayle</th>\n",
       "      <td>4997</td>\n",
       "    </tr>\n",
       "    <tr>\n",
       "      <th>MS Dhoni</th>\n",
       "      <td>4746</td>\n",
       "    </tr>\n",
       "    <tr>\n",
       "      <th>RV Uthappa</th>\n",
       "      <td>4724</td>\n",
       "    </tr>\n",
       "    <tr>\n",
       "      <th>G Gambhir</th>\n",
       "      <td>4217</td>\n",
       "    </tr>\n",
       "  </tbody>\n",
       "</table>\n",
       "</div>"
      ],
      "text/plain": [
       "                batsman_runs\n",
       "batsman                     \n",
       "V Kohli         6293        \n",
       "S Dhawan        5784        \n",
       "RG Sharma       5613        \n",
       "SK Raina        5536        \n",
       "DA Warner       5451        \n",
       "AB de Villiers  5181        \n",
       "CH Gayle        4997        \n",
       "MS Dhoni        4746        \n",
       "RV Uthappa      4724        \n",
       "G Gambhir       4217        "
      ]
     },
     "execution_count": 29,
     "metadata": {},
     "output_type": "execute_result"
    }
   ],
   "source": [
    "pd.DataFrame(df.groupby(['batsman'])['batsman_runs'].sum()).sort_values(by = 'batsman_runs', ascending = False).head(10)"
   ]
  },
  {
   "cell_type": "code",
   "execution_count": null,
   "id": "8359a17b",
   "metadata": {},
   "outputs": [],
   "source": []
  }
 ],
 "metadata": {
  "kernelspec": {
   "display_name": "Python 3 (ipykernel)",
   "language": "python",
   "name": "python3"
  },
  "language_info": {
   "codemirror_mode": {
    "name": "ipython",
    "version": 3
   },
   "file_extension": ".py",
   "mimetype": "text/x-python",
   "name": "python",
   "nbconvert_exporter": "python",
   "pygments_lexer": "ipython3",
   "version": "3.9.12"
  }
 },
 "nbformat": 4,
 "nbformat_minor": 5
}

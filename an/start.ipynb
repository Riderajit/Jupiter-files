{
 "cells": [
  {
   "cell_type": "code",
   "execution_count": null,
   "id": "76a8f338",
   "metadata": {},
   "outputs": [],
   "source": [
    "x = 1"
   ]
  },
  {
   "cell_type": "code",
   "execution_count": 6,
   "id": "3d1d0960",
   "metadata": {},
   "outputs": [
    {
     "data": {
      "text/plain": [
       "1"
      ]
     },
     "execution_count": 6,
     "metadata": {},
     "output_type": "execute_result"
    }
   ],
   "source": [
    "x"
   ]
  },
  {
   "cell_type": "code",
   "execution_count": null,
   "id": "acb8e096",
   "metadata": {},
   "outputs": [],
   "source": [
    "x = 3"
   ]
  },
  {
   "cell_type": "code",
   "execution_count": 8,
   "id": "c889b7a3",
   "metadata": {},
   "outputs": [
    {
     "data": {
      "text/plain": [
       "1"
      ]
     },
     "execution_count": 8,
     "metadata": {},
     "output_type": "execute_result"
    }
   ],
   "source": [
    "x"
   ]
  },
  {
   "cell_type": "code",
   "execution_count": 9,
   "id": "571377f5",
   "metadata": {},
   "outputs": [],
   "source": [
    "y = 'dhoni has a strike rate '\n",
    "sr = 100"
   ]
  },
  {
   "cell_type": "code",
   "execution_count": 10,
   "id": "bc3427b2",
   "metadata": {},
   "outputs": [
    {
     "name": "stdout",
     "output_type": "stream",
     "text": [
      "dhoni has a strike rate  100\n"
     ]
    }
   ],
   "source": [
    "print(y , sr)"
   ]
  },
  {
   "cell_type": "code",
   "execution_count": 14,
   "id": "f5db7b38",
   "metadata": {},
   "outputs": [
    {
     "name": "stdout",
     "output_type": "stream",
     "text": [
      "point1 \n",
      "point 2 \n",
      "point 3\n"
     ]
    }
   ],
   "source": [
    "print('point1 \\npoint 2 \\npoint 3')"
   ]
  },
  {
   "cell_type": "code",
   "execution_count": null,
   "id": "ddf182c9",
   "metadata": {},
   "outputs": [],
   "source": [
    "# press b - intsert a cell below \n",
    "# press f- find & replace\n",
    "# crtl + / - commenting/uncomment"
   ]
  },
  {
   "cell_type": "code",
   "execution_count": null,
   "id": "7ec0ce4b",
   "metadata": {},
   "outputs": [],
   "source": []
  }
 ],
 "metadata": {
  "kernelspec": {
   "display_name": "Python 3 (ipykernel)",
   "language": "python",
   "name": "python3"
  },
  "language_info": {
   "codemirror_mode": {
    "name": "ipython",
    "version": 3
   },
   "file_extension": ".py",
   "mimetype": "text/x-python",
   "name": "python",
   "nbconvert_exporter": "python",
   "pygments_lexer": "ipython3",
   "version": "3.9.12"
  }
 },
 "nbformat": 4,
 "nbformat_minor": 5
}

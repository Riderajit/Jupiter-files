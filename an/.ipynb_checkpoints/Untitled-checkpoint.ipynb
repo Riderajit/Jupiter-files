{
 "cells": [
  {
   "cell_type": "code",
   "execution_count": 2,
   "id": "92aaaff8",
   "metadata": {},
   "outputs": [
    {
     "name": "stdout",
     "output_type": "stream",
     "text": [
      "1\n",
      "3\n",
      "5\n",
      "7\n",
      "9\n",
      "11\n",
      "13\n",
      "15\n",
      "17\n",
      "19\n",
      "21\n",
      "23\n",
      "25\n",
      "27\n",
      "29\n",
      "31\n",
      "33\n",
      "35\n",
      "37\n",
      "39\n",
      "41\n",
      "43\n",
      "45\n",
      "47\n",
      "49\n",
      "51\n",
      "53\n",
      "55\n",
      "57\n",
      "59\n",
      "61\n",
      "63\n",
      "65\n",
      "67\n",
      "69\n",
      "71\n",
      "73\n",
      "75\n",
      "77\n",
      "79\n",
      "81\n",
      "83\n",
      "85\n",
      "87\n",
      "89\n",
      "91\n",
      "93\n",
      "95\n",
      "97\n",
      "99\n"
     ]
    }
   ],
   "source": [
    "for i in range (1,100, 2):\n",
    "    print(i)"
   ]
  },
  {
   "cell_type": "code",
   "execution_count": null,
   "id": "66f083d1",
   "metadata": {},
   "outputs": [],
   "source": [
    "# for each_page in book :\n",
    "#   print(each_page)"
   ]
  },
  {
   "cell_type": "code",
   "execution_count": null,
   "id": "a3c912af",
   "metadata": {},
   "outputs": [],
   "source": [
    "#  range===> (min, max, increment) defaultincr = 1 , default min=0\n",
    "# range (1,100) ----> 1,2,......99\n",
    "# range(100) = range (0, 100, 1) ----> 0, 1 ,2,......99\n",
    "# range (1, 101)---> 1, 2, 3 ....... 100"
   ]
  },
  {
   "cell_type": "code",
   "execution_count": null,
   "id": "4faef7b8",
   "metadata": {},
   "outputs": [],
   "source": [
    "# 1,2,----100\n",
    "# 1,1+2, 1+2+2, 1+2+2+2,\n",
    "# "
   ]
  }
 ],
 "metadata": {
  "kernelspec": {
   "display_name": "Python 3 (ipykernel)",
   "language": "python",
   "name": "python3"
  },
  "language_info": {
   "codemirror_mode": {
    "name": "ipython",
    "version": 3
   },
   "file_extension": ".py",
   "mimetype": "text/x-python",
   "name": "python",
   "nbconvert_exporter": "python",
   "pygments_lexer": "ipython3",
   "version": "3.9.12"
  }
 },
 "nbformat": 4,
 "nbformat_minor": 5
}

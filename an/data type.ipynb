{
 "cells": [
  {
   "cell_type": "code",
   "execution_count": null,
   "id": "a77e660e",
   "metadata": {},
   "outputs": [],
   "source": [
    "# variable type \n",
    "# data type\n",
    "# data structure"
   ]
  },
  {
   "cell_type": "code",
   "execution_count": null,
   "id": "b0251eb6",
   "metadata": {},
   "outputs": [],
   "source": [
    "x1 = 11 \n",
    "x2 = 22 \n",
    "x3 = 33"
   ]
  },
  {
   "cell_type": "code",
   "execution_count": null,
   "id": "2c1b8907",
   "metadata": {},
   "outputs": [],
   "source": [
    "x4 = [x1, x2, x3]"
   ]
  },
  {
   "cell_type": "code",
   "execution_count": 4,
   "id": "aa1b39e4",
   "metadata": {},
   "outputs": [
    {
     "ename": "NameError",
     "evalue": "name 'x4' is not defined",
     "output_type": "error",
     "traceback": [
      "\u001b[1;31m---------------------------------------------------------------------------\u001b[0m",
      "\u001b[1;31mNameError\u001b[0m                                 Traceback (most recent call last)",
      "Input \u001b[1;32mIn [4]\u001b[0m, in \u001b[0;36m<cell line: 1>\u001b[1;34m()\u001b[0m\n\u001b[1;32m----> 1\u001b[0m \u001b[43mx4\u001b[49m\n",
      "\u001b[1;31mNameError\u001b[0m: name 'x4' is not defined"
     ]
    }
   ],
   "source": [
    "x4"
   ]
  },
  {
   "cell_type": "code",
   "execution_count": null,
   "id": "cf79c971",
   "metadata": {},
   "outputs": [],
   "source": []
  }
 ],
 "metadata": {
  "kernelspec": {
   "display_name": "Python 3 (ipykernel)",
   "language": "python",
   "name": "python3"
  },
  "language_info": {
   "codemirror_mode": {
    "name": "ipython",
    "version": 3
   },
   "file_extension": ".py",
   "mimetype": "text/x-python",
   "name": "python",
   "nbconvert_exporter": "python",
   "pygments_lexer": "ipython3",
   "version": "3.9.12"
  }
 },
 "nbformat": 4,
 "nbformat_minor": 5
}

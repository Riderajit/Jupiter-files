{
 "cells": [
  {
   "cell_type": "code",
   "execution_count": null,
   "id": "9cfad1c3",
   "metadata": {},
   "outputs": [],
   "source": [
    "player = \"Rohit\""
   ]
  },
  {
   "cell_type": "code",
   "execution_count": null,
   "id": "502ff8b0",
   "metadata": {},
   "outputs": [],
   "source": [
    "# R, Ro, hit"
   ]
  },
  {
   "cell_type": "code",
   "execution_count": null,
   "id": "c2ac7b53",
   "metadata": {},
   "outputs": [],
   "source": [
    "# indexng starts from 0"
   ]
  },
  {
   "cell_type": "code",
   "execution_count": 2,
   "id": "4aa31d51",
   "metadata": {},
   "outputs": [
    {
     "ename": "NameError",
     "evalue": "name 'player' is not defined",
     "output_type": "error",
     "traceback": [
      "\u001b[1;31m---------------------------------------------------------------------------\u001b[0m",
      "\u001b[1;31mNameError\u001b[0m                                 Traceback (most recent call last)",
      "Input \u001b[1;32mIn [2]\u001b[0m, in \u001b[0;36m<cell line: 1>\u001b[1;34m()\u001b[0m\n\u001b[1;32m----> 1\u001b[0m \u001b[43mplayer\u001b[49m[\u001b[38;5;241m0\u001b[39m]\n",
      "\u001b[1;31mNameError\u001b[0m: name 'player' is not defined"
     ]
    }
   ],
   "source": [
    "player[1]"
   ]
  },
  {
   "cell_type": "code",
   "execution_count": null,
   "id": "1425dba6",
   "metadata": {},
   "outputs": [],
   "source": [
    "player = 'virat kphli'"
   ]
  },
  {
   "cell_type": "code",
   "execution_count": 1,
   "id": "b66c3adc",
   "metadata": {},
   "outputs": [
    {
     "ename": "NameError",
     "evalue": "name 'player' is not defined",
     "output_type": "error",
     "traceback": [
      "\u001b[1;31m---------------------------------------------------------------------------\u001b[0m",
      "\u001b[1;31mNameError\u001b[0m                                 Traceback (most recent call last)",
      "Input \u001b[1;32mIn [1]\u001b[0m, in \u001b[0;36m<cell line: 1>\u001b[1;34m()\u001b[0m\n\u001b[1;32m----> 1\u001b[0m \u001b[43mplayer\u001b[49m\u001b[38;5;241m.\u001b[39mreplace(\u001b[38;5;124m'\u001b[39m\u001b[38;5;124mp\u001b[39m\u001b[38;5;124m'\u001b[39m,\u001b[38;5;124m'\u001b[39m\u001b[38;5;124mo\u001b[39m\u001b[38;5;124m'\u001b[39m)\n",
      "\u001b[1;31mNameError\u001b[0m: name 'player' is not defined"
     ]
    }
   ],
   "source": [
    "player.replace('p','o')"
   ]
  },
  {
   "cell_type": "code",
   "execution_count": 7,
   "id": "36a5a555",
   "metadata": {},
   "outputs": [
    {
     "name": "stdout",
     "output_type": "stream",
     "text": [
      "going to the movie\n"
     ]
    }
   ],
   "source": [
    "# not even 150 should be 149 -> 1\n",
    "ticket_price= 100\n",
    "\n",
    "if ticket_price  > 150:\n",
    "    print ('too expensive')\n",
    "else:\n",
    "    print ('going to the movie')"
   ]
  },
  {
   "cell_type": "code",
   "execution_count": 10,
   "id": "a7800aca",
   "metadata": {},
   "outputs": [
    {
     "name": "stdout",
     "output_type": "stream",
     "text": [
      "consider\n"
     ]
    }
   ],
   "source": [
    "# not going, going, consider\n",
    "# >=150, [1, 125], [126, 149]\n",
    "\n",
    "# >=150, [126, 149], [1, 125],\n",
    "\n",
    "ticket_price= 135\n",
    "if ticket_price  >= 150:\n",
    "    print ('not going')\n",
    "elif ticket_price > 125:\n",
    "    print(\"consider\")\n",
    "else:\n",
    "    print ('going to the movie')"
   ]
  },
  {
   "cell_type": "code",
   "execution_count": null,
   "id": "3a6d0732",
   "metadata": {},
   "outputs": [],
   "source": [
    "# not going, consider, going, \n",
    "\n",
    "\n",
    "# >=150, [126, 149], [1, 125],\n",
    "\n",
    "ticket_price= 135\n",
    "if ticket_price  >= 150:\n",
    "    print ('not going')\n",
    "elif ticket_price > 125:\n",
    "    print(\"consider\")\n",
    "else:\n",
    "    print ('going to the movie')"
   ]
  }
 ],
 "metadata": {
  "kernelspec": {
   "display_name": "Python 3 (ipykernel)",
   "language": "python",
   "name": "python3"
  },
  "language_info": {
   "codemirror_mode": {
    "name": "ipython",
    "version": 3
   },
   "file_extension": ".py",
   "mimetype": "text/x-python",
   "name": "python",
   "nbconvert_exporter": "python",
   "pygments_lexer": "ipython3",
   "version": "3.9.12"
  }
 },
 "nbformat": 4,
 "nbformat_minor": 5
}
